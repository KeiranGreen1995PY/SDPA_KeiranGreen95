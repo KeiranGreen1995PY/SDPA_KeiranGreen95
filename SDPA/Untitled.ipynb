{
 "cells": [
  {
   "cell_type": "code",
   "execution_count": 3,
   "id": "a9889660",
   "metadata": {},
   "outputs": [
    {
     "ename": "IndentationError",
     "evalue": "expected an indented block (1046253230.py, line 70)",
     "output_type": "error",
     "traceback": [
      "\u001b[1;36m  Input \u001b[1;32mIn [3]\u001b[1;36m\u001b[0m\n\u001b[1;33m    \u001b[0m\n\u001b[1;37m    ^\u001b[0m\n\u001b[1;31mIndentationError\u001b[0m\u001b[1;31m:\u001b[0m expected an indented block\n"
     ]
    }
   ],
   "source": [
    "# Create a class for the players\n",
    "class Player:\n",
    "  def __init__(self, name, symbol):\n",
    "    self.name = name\n",
    "    self.symbol = symbol\n",
    "\n",
    "# Create a class for the board\n",
    "class Board:\n",
    "  def __init__(self, rows, cols):\n",
    "    self.rows = rows\n",
    "    self.cols = cols\n",
    "    self.grid = [[' ' for _ in range(cols)] for _ in range(rows)]\n",
    "    self.boxes = []\n",
    "  \n",
    "  def draw(self):\n",
    "    # Print the top row of column numbers\n",
    "    print('  ', end='')\n",
    "    for col in range(self.cols):\n",
    "      print(col + 1, end=' ')\n",
    "    print()\n",
    "    # Print the rows of the grid\n",
    "    for row in range(self.rows):\n",
    "      print(row + 1, end=' ')\n",
    "      for col in range(self.cols):\n",
    "        print(self.grid[row][col], end=' ')\n",
    "      print()\n",
    "  \n",
    "  def make_move(self, row, col, player):\n",
    "    # Check if the move is valid\n",
    "    if not self.is_valid_move(row, col):\n",
    "      return False\n",
    "    # Make the move\n",
    "    self.grid[row][col] = player.symbol\n",
    "    # Check if a square was completed\n",
    "    self.check_for_square(row, col)\n",
    "    return True\n",
    "  \n",
    "  def is_valid_move(self, row, col):\n",
    "    # Check if the coordinates are within the bounds of the grid\n",
    "    if row < 0 or row >= self.rows or col < 0 or col >= self.cols:\n",
    "      return False\n",
    "    # Check if the cell is already occupied\n",
    "    if self.grid[row][col] != ' ':\n",
    "      return False\n",
    "    return True\n",
    "  \n",
    "  def check_for_square(self, row, col):\n",
    "    # Check if the move completed a square\n",
    "    if row > 0 and self.grid[row][col] != ' ' and self.grid[row - 1][col] != ' ' and col > 0 and self.grid[row][col - 1] != ' ' and self.grid[row - 1][col - 1] != ' ':\n",
    "      # Add a new box to the list\n",
    "      self.boxes.append((row - 1, col - 1))\n",
    "\n",
    "# Create the players\n",
    "player1 = Player('Player 1', 'X')\n",
    "player2 = Player('Player 2', 'O')\n",
    "\n",
    "# Create the board\n",
    "board = Board(3, 3)\n",
    "\n",
    "# Main game loop\n",
    "current_player = player1\n",
    "while True:\n",
    "  # Draw the board\n",
    "  board.draw()\n",
    "  # Get the player's move\n",
    "  row = int(input('Enter row: ')) - 1\n",
    "  col = int(input('Enter col: ')) - 1\n",
    "  # Make the move\n",
    "  if board.make_move(row, col, current_player):\n",
    "    \n"
   ]
  },
  {
   "cell_type": "code",
   "execution_count": null,
   "id": "7e7d6ce5",
   "metadata": {},
   "outputs": [],
   "source": []
  },
  {
   "cell_type": "code",
   "execution_count": null,
   "id": "789dad1d",
   "metadata": {},
   "outputs": [],
   "source": []
  }
 ],
 "metadata": {
  "kernelspec": {
   "display_name": "Python 3 (ipykernel)",
   "language": "python",
   "name": "python3"
  },
  "language_info": {
   "codemirror_mode": {
    "name": "ipython",
    "version": 3
   },
   "file_extension": ".py",
   "mimetype": "text/x-python",
   "name": "python",
   "nbconvert_exporter": "python",
   "pygments_lexer": "ipython3",
   "version": "3.9.12"
  }
 },
 "nbformat": 4,
 "nbformat_minor": 5
}
